{
  "nbformat": 4,
  "nbformat_minor": 0,
  "metadata": {
    "colab": {
      "provenance": [],
      "authorship_tag": "ABX9TyPaEfGqYaZfVzXDGvb2h5r/",
      "include_colab_link": true
    },
    "kernelspec": {
      "name": "python3",
      "display_name": "Python 3"
    },
    "language_info": {
      "name": "python"
    }
  },
  "cells": [
    {
      "cell_type": "markdown",
      "metadata": {
        "id": "view-in-github",
        "colab_type": "text"
      },
      "source": [
        "<a href=\"https://colab.research.google.com/github/td15/BHARAT-/blob/main/GPUActivity1.ipynb\" target=\"_parent\"><img src=\"https://colab.research.google.com/assets/colab-badge.svg\" alt=\"Open In Colab\"/></a>"
      ]
    },
    {
      "cell_type": "code",
      "execution_count": 3,
      "metadata": {
        "colab": {
          "base_uri": "https://localhost:8080/"
        },
        "id": "O0ognXq2UPgZ",
        "outputId": "c6c72567-e41f-4bc2-9330-e6ea10d7c944"
      },
      "outputs": [
        {
          "output_type": "stream",
          "name": "stdout",
          "text": [
            "Overwriting hello.c\n"
          ]
        }
      ],
      "source": [
        "%%writefile hello.c\n",
        "#include<stdio.h>\n",
        "int main(){\n",
        "\n",
        "printf(\"Hi!\");\n",
        "}"
      ]
    },
    {
      "cell_type": "code",
      "source": [
        "!gcc hello.c -o hello\n",
        "!./hello"
      ],
      "metadata": {
        "colab": {
          "base_uri": "https://localhost:8080/"
        },
        "id": "wepyLXadVRCJ",
        "outputId": "8cb404bb-4001-48d0-8f5f-9f7d1dc37f4c"
      },
      "execution_count": 7,
      "outputs": [
        {
          "output_type": "stream",
          "name": "stdout",
          "text": [
            "Hi!"
          ]
        }
      ]
    },
    {
      "cell_type": "code",
      "source": [
        "%%writefile hello1.c\n",
        "#include<stdio.h>\n",
        "#include<omp.h>\n",
        "int main(int argc, char* argv[])\n",
        "{\n",
        "  #pragma omp parallel\n",
        "  printf(\"Hello td i am thread = %d\\n\", omp_get_thread_num());\n",
        "  printf(\"Max threads = %d\\n\", omp_get_max_threads());\n",
        "\n",
        "\n",
        "  return 0;\n",
        "}"
      ],
      "metadata": {
        "colab": {
          "base_uri": "https://localhost:8080/"
        },
        "id": "m8s08iINd8z2",
        "outputId": "045c95f7-79ba-445f-9d9d-a3967f02cead"
      },
      "execution_count": 22,
      "outputs": [
        {
          "output_type": "stream",
          "name": "stdout",
          "text": [
            "Overwriting hello1.c\n"
          ]
        }
      ]
    },
    {
      "cell_type": "code",
      "source": [
        "! gcc -fopenmp hello1.c -o hello1\n",
        "! ./hello1"
      ],
      "metadata": {
        "colab": {
          "base_uri": "https://localhost:8080/"
        },
        "id": "3TkWJ82ZeaAh",
        "outputId": "a8bcbe27-841c-4e7b-d92a-9d27d30d6288"
      },
      "execution_count": 23,
      "outputs": [
        {
          "output_type": "stream",
          "name": "stdout",
          "text": [
            "Hello td i am thread = 0\n",
            "Hello td i am thread = 1\n",
            "Max threads = 2\n"
          ]
        }
      ]
    },
    {
      "cell_type": "code",
      "source": [
        "%%writefile hello2.c\n",
        "#include<stdio.h>\n",
        "#include<omp.h>\n",
        "int main(){\n",
        "  #pragma omp parallel\n",
        "  {\n",
        "    printf(\"Hello world from OpenOMP\\n\");\n",
        "  }\n",
        "}"
      ],
      "metadata": {
        "colab": {
          "base_uri": "https://localhost:8080/"
        },
        "id": "ha6VlHE6ieir",
        "outputId": "cd6eac14-eb98-4a41-9675-31004ce91efa"
      },
      "execution_count": 30,
      "outputs": [
        {
          "output_type": "stream",
          "name": "stdout",
          "text": [
            "Overwriting hello2.c\n"
          ]
        }
      ]
    },
    {
      "cell_type": "code",
      "source": [
        "!gcc hello2.c -o hello2"
      ],
      "metadata": {
        "id": "yXXaSFoPi4Kx"
      },
      "execution_count": 31,
      "outputs": []
    },
    {
      "cell_type": "code",
      "source": [
        "!./hello2"
      ],
      "metadata": {
        "colab": {
          "base_uri": "https://localhost:8080/"
        },
        "id": "3-x-fVxijaPN",
        "outputId": "29b8f239-363f-4d2b-ca7f-8d1eb4e7ffad"
      },
      "execution_count": 33,
      "outputs": [
        {
          "output_type": "stream",
          "name": "stdout",
          "text": [
            "Hello world from OpenOMP\n"
          ]
        }
      ]
    },
    {
      "cell_type": "code",
      "source": [
        "! gcc -fopenmp hello2.c -o hello2\n",
        "! ./hello2"
      ],
      "metadata": {
        "colab": {
          "base_uri": "https://localhost:8080/"
        },
        "id": "VOyx0FAEjj9I",
        "outputId": "f46e1b7d-d368-4451-8d3d-4190f7f3e62c"
      },
      "execution_count": 34,
      "outputs": [
        {
          "output_type": "stream",
          "name": "stdout",
          "text": [
            "Hello world from OpenOMP\n",
            "Hello world from OpenOMP\n"
          ]
        }
      ]
    },
    {
      "cell_type": "code",
      "source": [
        "%%writefile hello3.c\n",
        "#include<stdio.h>\n",
        "#include<omp.h>\n",
        "int main(){\n",
        "  omp_set_num_threads(2);\n",
        "  #pragma omp parallel\n",
        "  {\n",
        "    printf(\"Hello world from OpenOMP\\n\");\n",
        "    int numt=omp_get_num_threads();\n",
        "    printf(\"Number of threads in my prgm is: %d\\n\", numt);\n",
        "\n",
        "  }\n",
        "}\n",
        ""
      ],
      "metadata": {
        "colab": {
          "base_uri": "https://localhost:8080/"
        },
        "id": "1ee57fAljsp1",
        "outputId": "286098d5-b8f1-4f5a-bf74-5a2beb9bb07d"
      },
      "execution_count": 39,
      "outputs": [
        {
          "output_type": "stream",
          "name": "stdout",
          "text": [
            "Overwriting hello3.c\n"
          ]
        }
      ]
    },
    {
      "cell_type": "code",
      "source": [
        "! gcc -fopenmp hello3.c -o hello3\n",
        "! ./hello3"
      ],
      "metadata": {
        "colab": {
          "base_uri": "https://localhost:8080/"
        },
        "id": "LpGH6siMkmdV",
        "outputId": "0adaf2b6-072b-4c19-efc7-5de35f555fc8"
      },
      "execution_count": 40,
      "outputs": [
        {
          "output_type": "stream",
          "name": "stdout",
          "text": [
            "Hello world from OpenOMP\n",
            "Number of threads in my prgm is: 2\n",
            "Hello world from OpenOMP\n",
            "Number of threads in my prgm is: 2\n"
          ]
        }
      ]
    },
    {
      "cell_type": "markdown",
      "source": [
        "Thread ID\n",
        "Each thread has itns own thread num"
      ],
      "metadata": {
        "id": "y1u3wRYimFi8"
      }
    },
    {
      "cell_type": "code",
      "source": [
        "%%writefile hello4.c\n",
        "#include<stdio.h>\n",
        "#include<omp.h>\n",
        "int main(){\n",
        "  #pragma omp parallel\n",
        "  {\n",
        "    printf(\"Hello world from OpenOMP\\n\");\n",
        "    int numt=omp_get_num_threads();\n",
        "    printf(\"Number of threads in my prgm is: %d\\n\", numt);\n",
        "    int thid= omp_get_num_threads();\n",
        "    printf(\"My threadID is : %d\\n\", thid);\n",
        "  }\n",
        "}"
      ],
      "metadata": {
        "colab": {
          "base_uri": "https://localhost:8080/"
        },
        "id": "UWtm2IwZmLzg",
        "outputId": "08cfaa24-ad54-4877-9d5f-fd7f928ef091"
      },
      "execution_count": 45,
      "outputs": [
        {
          "output_type": "stream",
          "name": "stdout",
          "text": [
            "Overwriting hello4.c\n"
          ]
        }
      ]
    },
    {
      "cell_type": "code",
      "source": [
        "! gcc -fopenmp hello4.c -o hello4\n",
        "! ./hello4"
      ],
      "metadata": {
        "colab": {
          "base_uri": "https://localhost:8080/"
        },
        "id": "Ks3Pk0FlmwxH",
        "outputId": "8cde9171-93cd-4be7-d209-0bdca65c0e83"
      },
      "execution_count": 46,
      "outputs": [
        {
          "output_type": "stream",
          "name": "stdout",
          "text": [
            "Hello world from OpenOMP\n",
            "Number of threads in my prgm is: 2\n",
            "My threadID is : 2\n",
            "Hello world from OpenOMP\n",
            "Number of threads in my prgm is: 2\n",
            "My threadID is : 2\n"
          ]
        }
      ]
    },
    {
      "cell_type": "markdown",
      "source": [
        "AIM code output\n",
        "using env variable set num of threads"
      ],
      "metadata": {
        "id": "Ana6RZasm_xh"
      }
    }
  ]
}